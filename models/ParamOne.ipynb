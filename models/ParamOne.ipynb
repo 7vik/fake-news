{
 "cells": [
  {
   "cell_type": "code",
   "execution_count": 1,
   "metadata": {},
   "outputs": [],
   "source": [
    "import nltk\n",
    "import pandas as pd\n",
    "import os\n",
    "import general_funcs"
   ]
  },
  {
   "cell_type": "code",
   "execution_count": 35,
   "metadata": {},
   "outputs": [],
   "source": [
    "path_to_data = os.path.abspath(\"./../datasets/final_dataset.csv\")\n",
    "data = pd.read_csv(path_to_data, encoding=\"ISO-8859-1\")\n",
    "data = data.dropna(axis=\"columns\",how=\"all\")\n",
    "data = data.dropna(axis=\"rows\", subset=[\"Title\",\"Text\"])\n",
    "data = data.dropna(axis=\"columns\")\n",
    "data[\"tok_cont\"] = data.apply(lambda row: nltk.word_tokenize(row[\"Text\"]),axis=1)\n",
    "data[\"tok_title\"] = data.apply(lambda row: nltk.word_tokenize(row[\"Title\"]),axis=1)\n",
    "data[\"pos_cont\"] = data.apply(lambda row: nltk.pos_tag(row[\"tok_cont\"]),axis=1)\n",
    "data[\"pos_title\"] = data.apply(lambda row: nltk.pos_tag(row[\"tok_title\"]),axis=1)\n",
    "data[\"wc_cont\"] = data.apply(lambda row: set(row[\"tok_cont\"]),axis=1)\n",
    "data[\"wc_title\"] = data.apply(lambda row: set(row[\"tok_title\"]),axis=1)\n"
   ]
  },
  {
   "cell_type": "code",
   "execution_count": 36,
   "metadata": {},
   "outputs": [
    {
     "name": "stdout",
     "output_type": "stream",
     "text": [
      "Title         2018American Eagle gold, silver coin demand r...\n",
      "Text         In a sign of precious metals demand, sales of ...\n",
      "Verdict                                                   Real\n",
      "tok_cont     [In, a, sign, of, precious, metals, demand, ,,...\n",
      "tok_title    [2018American, Eagle, gold, ,, silver, coin, d...\n",
      "pos_cont     [(In, IN), (a, DT), (sign, NN), (of, IN), (pre...\n",
      "pos_title    [(2018American, CD), (Eagle, NNP), (gold, NN),...\n",
      "wc_cont      {[, sold, was, said, 244,500, in, Gold, toward...\n",
      "wc_title     {demand, Eagle, ,, gold, 11-year, lows, 2018Am...\n",
      "Name: 2005, dtype: object\n"
     ]
    }
   ],
   "source": [
    "print(data.iloc[2005])"
   ]
  },
  {
   "cell_type": "code",
   "execution_count": 37,
   "metadata": {},
   "outputs": [
    {
     "name": "stdout",
     "output_type": "stream",
     "text": [
      "British shale gas company Cuadrilla has again paused fracking at its Preston New Road site in Lancashire, northwest England, after tremors were detected, the company said. This marks the third time operations have been halted at the site following seismic activity under Britainâs so-called traffic light regulation system, since they began in October.  âA series of micro seismic events in Blackpool have been recorded on the British Geological Survey website this morning following hydraulic fracturing at our shale gas exploration site in Preston New Road, Lancashire,â Cuadrilla said in a statement. The largest tremor, of 1.5 magnitude, took place after fracking activities had already stopped, it said. âAccording to recent research by the University of Liverpool the impact would be like dropping a melon,â Cuadrilla said. Fracking, or hydraulically fracturing, involves extracting gas from rocks by breaking them up with water and chemicals at high pressure. It is opposed by environmentalists who say extracting more fossil fuel is at odds with Britainâs commitment to reduce greenhouse gas emissions. However, the government is keen to reduce the countryâs reliance on imports of natural gas, which is used to heat around 80 percent of Britainâs homes. The company, which is 47.4 percent owned by Australiaâs AJ Lucas and 45.2 percent owned by a fund managed by Riverstone, first attempted to frack gas near the coastal town of Blackpool in northwestern England in 2011, but the practice led to a 2.3 magnitude earth tremor. It said then that the quakes at that site were caused by an unusual combination of geological features, but they led to an 18-month nationwide ban on fracking while further research was carried out. The government has since introduced a traffic-light system that immediately suspends work if seismic activity of magnitude 0.5 or above is detected. âCuadrilla will pause and continue to monitor micro seismicity for at least the next 18 hours... Well integrity has been checked and verified,â it said. Cuadrilla said last month it had extracted its first shale gas from the site. Gas flows were small but coming at such an early stage of the project were evidence of the siteâs potential, it said. Reporting by Susanna Twidale; editing by Louise Heavens and Adrian CroftAll quotes delayed a minimum of 15 minutes. See here for a complete list of exchanges and delays.Â© 2019 Reuters. All Rights Reserved.\n"
     ]
    }
   ],
   "source": [
    "print(data.iloc[4032][1])"
   ]
  },
  {
   "cell_type": "code",
   "execution_count": 26,
   "metadata": {},
   "outputs": [
    {
     "name": "stdout",
     "output_type": "stream",
     "text": [
      "shares ended lower on Tuesday, in line with global markets, a day ahead of the Reserve Bank of India (RBI) monetary policy decision, while domestic investors were cautious about the outcome of some state elections. The benchmark BSE Sensex closed down 0.29 percent at 36,134.31. The broader NSE Nifty ended 0.13 percent lower at 10,869.50. Bharat Petroleum Corp Ltd ended 2.8 percent higher. Results of the state elections are expected on Dec. 11. Reporting by Tanvi Mehta in Bengaluru; Editing by Gopakumar WarrierAll quotes delayed a minimum of 15 minutes. See here for a complete list of exchanges and delays.\n"
     ]
    }
   ],
   "source": [
    "print(data.iloc[5555][1])"
   ]
  },
  {
   "cell_type": "code",
   "execution_count": 52,
   "metadata": {},
   "outputs": [],
   "source": [
    "def clean_content(text):\n",
    "    list_apos = text.split('â')\n",
    "    apos = len(list_apos)\n",
    "    text = \"'\".join(list_apos)\n",
    "    text = ''.join(text.split('Â'))\n",
    "    print(\"Cleaned of \"+str(apos)+\" Special Characters\")\n",
    "    text = text.split('© 2019 Reuters. All Rights Reserved.')[0]\n",
    "    text = text.split('© 2018 Reuters. All Rights Reserved.')[0]\n",
    "    text = text.split('Your email address will not be published.')[0]\n",
    "    while text[0]==' ':\n",
    "        text = text[1:]\n",
    "    if text[0]=='2':\n",
    "        return text[4:]\n",
    "    else:\n",
    "        return text\n"
   ]
  },
  {
   "cell_type": "code",
   "execution_count": 25,
   "metadata": {},
   "outputs": [],
   "source": [
    "#data[\"Text\"] = data.apply(lambda row: clean_content(row[\"Text\"]), axis=1)"
   ]
  },
  {
   "cell_type": "code",
   "execution_count": 56,
   "metadata": {},
   "outputs": [
    {
     "name": "stdout",
     "output_type": "stream",
     "text": [
      "Cleaned of 16 Special Characters\n",
      "According to the city's police department, many clues collected on the site suggest that he might have been the victim of an elaborate murder plot.\n",
      " 'The police forces have only been able to proceed to preliminary analysis before we spotted a source of radiations on the scene and had to call a decontamination team' explains Sven Munger of the Zurich Police Department.\n",
      " 'We can confirm that the radioactive agent is a very rare Russian product named TCDD Dioxin. The clues we have collected are insufficient to pronounce a definitive conclusion, but the complexity of the of plot we have exposed greatly reduces the number of suspects.'\n",
      " The victim had attracted a lot of attention from the Russian government and media in 2011 when he had written a book entitled '\n",
      "  Ð¯ Ð±ÑÐ» Ð»ÑÐ±Ð¾Ð²Ð½Ð¸Ðº ÐÑÑÐ¸Ð½Ð°\n",
      " ' ('\n",
      "  I was Putin's Lover\n",
      " '), which was taken off the shelves before the official release, after a presidential decree.\n",
      " A warrant demanding the arrest of the author was also issued across Russia, leading him to file a demand for political asylum from the Helvetic state.\n",
      " Many sources also claim that Mr. Michaelevitch had dinner with an attachÃ© of the Russian embassy five days before his body was found, a case strangely similar to that of the former Ukrainian President Viktor Yushchenko in 1999.\n",
      " Donald Trump is gay too. He and Putin have shared a bed and that's at least 1 of the scary things Trump wants to keep hidden. Trump is in love and knows no one else will want or have wanted him (this excludes those being paid for the act). 'Very sad'.\n",
      " I'll bet my savings on it.\n",
      " \n"
     ]
    }
   ],
   "source": [
    "print(clean_content(data.iloc[50][1]))"
   ]
  }
 ],
 "metadata": {
  "kernelspec": {
   "display_name": "Python 3",
   "language": "python",
   "name": "python3"
  },
  "language_info": {
   "codemirror_mode": {
    "name": "ipython",
    "version": 3
   },
   "file_extension": ".py",
   "mimetype": "text/x-python",
   "name": "python",
   "nbconvert_exporter": "python",
   "pygments_lexer": "ipython3",
   "version": "3.7.1"
  }
 },
 "nbformat": 4,
 "nbformat_minor": 2
}
