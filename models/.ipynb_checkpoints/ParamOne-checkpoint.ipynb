{
 "cells": [
  {
   "cell_type": "code",
   "execution_count": 1,
   "metadata": {},
   "outputs": [],
   "source": [
    "import nltk\n",
    "import pandas as pd\n",
    "import os\n",
    "import general_funcs"
   ]
  },
  {
   "cell_type": "code",
   "execution_count": 35,
   "metadata": {},
   "outputs": [],
   "source": [
    "path_to_data = os.path.abspath(\"./../datasets/final_dataset.csv\")\n",
    "data = pd.read_csv(path_to_data, encoding=\"ISO-8859-1\")\n",
    "data = data.dropna(axis=\"columns\",how=\"all\")\n",
    "data = data.dropna(axis=\"rows\", subset=[\"Title\",\"Text\"])\n",
    "data = data.dropna(axis=\"columns\")\n",
    "data[\"tok_cont\"] = data.apply(lambda row: nltk.word_tokenize(row[\"Text\"]),axis=1)\n",
    "data[\"tok_title\"] = data.apply(lambda row: nltk.word_tokenize(row[\"Title\"]),axis=1)\n",
    "data[\"pos_cont\"] = data.apply(lambda row: nltk.pos_tag(row[\"tok_cont\"]),axis=1)\n",
    "data[\"pos_title\"] = data.apply(lambda row: nltk.pos_tag(row[\"tok_title\"]),axis=1)\n",
    "data[\"wc_cont\"] = data.apply(lambda row: set(row[\"tok_cont\"]),axis=1)\n",
    "data[\"wc_title\"] = data.apply(lambda row: set(row[\"tok_title\"]),axis=1)\n"
   ]
  },
  {
   "cell_type": "code",
   "execution_count": 36,
   "metadata": {},
   "outputs": [
    {
     "name": "stdout",
     "output_type": "stream",
     "text": [
      "Title         2018American Eagle gold, silver coin demand r...\n",
      "Text         In a sign of precious metals demand, sales of ...\n",
      "Verdict                                                   Real\n",
      "tok_cont     [In, a, sign, of, precious, metals, demand, ,,...\n",
      "tok_title    [2018American, Eagle, gold, ,, silver, coin, d...\n",
      "pos_cont     [(In, IN), (a, DT), (sign, NN), (of, IN), (pre...\n",
      "pos_title    [(2018American, CD), (Eagle, NNP), (gold, NN),...\n",
      "wc_cont      {[, sold, was, said, 244,500, in, Gold, toward...\n",
      "wc_title     {demand, Eagle, ,, gold, 11-year, lows, 2018Am...\n",
      "Name: 2005, dtype: object\n"
     ]
    }
   ],
   "source": [
    "print(data.iloc[2005])"
   ]
  },
  {
   "cell_type": "code",
   "execution_count": 37,
   "metadata": {},
   "outputs": [
    {
     "name": "stdout",
     "output_type": "stream",
     "text": [
      "British shale gas company Cuadrilla has again paused fracking at its Preston New Road site in Lancashire, northwest England, after tremors were detected, the company said. This marks the third time operations have been halted at the site following seismic activity under Britainâs so-called traffic light regulation system, since they began in October.  âA series of micro seismic events in Blackpool have been recorded on the British Geological Survey website this morning following hydraulic fracturing at our shale gas exploration site in Preston New Road, Lancashire,â Cuadrilla said in a statement. The largest tremor, of 1.5 magnitude, took place after fracking activities had already stopped, it said. âAccording to recent research by the University of Liverpool the impact would be like dropping a melon,â Cuadrilla said. Fracking, or hydraulically fracturing, involves extracting gas from rocks by breaking them up with water and chemicals at high pressure. It is opposed by environmentalists who say extracting more fossil fuel is at odds with Britainâs commitment to reduce greenhouse gas emissions. However, the government is keen to reduce the countryâs reliance on imports of natural gas, which is used to heat around 80 percent of Britainâs homes. The company, which is 47.4 percent owned by Australiaâs AJ Lucas and 45.2 percent owned by a fund managed by Riverstone, first attempted to frack gas near the coastal town of Blackpool in northwestern England in 2011, but the practice led to a 2.3 magnitude earth tremor. It said then that the quakes at that site were caused by an unusual combination of geological features, but they led to an 18-month nationwide ban on fracking while further research was carried out. The government has since introduced a traffic-light system that immediately suspends work if seismic activity of magnitude 0.5 or above is detected. âCuadrilla will pause and continue to monitor micro seismicity for at least the next 18 hours... Well integrity has been checked and verified,â it said. Cuadrilla said last month it had extracted its first shale gas from the site. Gas flows were small but coming at such an early stage of the project were evidence of the siteâs potential, it said. Reporting by Susanna Twidale; editing by Louise Heavens and Adrian CroftAll quotes delayed a minimum of 15 minutes. See here for a complete list of exchanges and delays.Â© 2019 Reuters. All Rights Reserved.\n"
     ]
    }
   ],
   "source": [
    "print(data.iloc[4032][1])"
   ]
  },
  {
   "cell_type": "code",
   "execution_count": 26,
   "metadata": {},
   "outputs": [
    {
     "name": "stdout",
     "output_type": "stream",
     "text": [
      "shares ended lower on Tuesday, in line with global markets, a day ahead of the Reserve Bank of India (RBI) monetary policy decision, while domestic investors were cautious about the outcome of some state elections. The benchmark BSE Sensex closed down 0.29 percent at 36,134.31. The broader NSE Nifty ended 0.13 percent lower at 10,869.50. Bharat Petroleum Corp Ltd ended 2.8 percent higher. Results of the state elections are expected on Dec. 11. Reporting by Tanvi Mehta in Bengaluru; Editing by Gopakumar WarrierAll quotes delayed a minimum of 15 minutes. See here for a complete list of exchanges and delays.\n"
     ]
    }
   ],
   "source": [
    "print(data.iloc[5555][1])"
   ]
  },
  {
   "cell_type": "code",
   "execution_count": 32,
   "metadata": {},
   "outputs": [],
   "source": [
    "def clean_content(text):\n",
    "    list_apos = text.split('â')\n",
    "    apos = len(list_apos)\n",
    "    text = \"'\".join(list_apos)\n",
    "    text = ''.join(text.split('Â')\n",
    "    print(\"Cleaned of \"+str(apos)+\" Special Characters\")\n",
    "    text = text.split('Â© 2019 Reuters. All Rights Reserved.')[0]\n",
    "    text = text.split('Â© 2018 Reuters. All Rights Reserved.')[0]\n",
    "    text = text.split('Your email address will not be published.')[0]\n",
    "    while text[0]==' ':\n",
    "        text = text[1:]\n",
    "    if text[0]=='2':\n",
    "        return text[4:]\n",
    "    else:\n",
    "        return text\n"
   ]
  },
  {
   "cell_type": "code",
   "execution_count": 25,
   "metadata": {},
   "outputs": [],
   "source": [
    "#data[\"Text\"] = data.apply(lambda row: clean_content(row[\"Text\"]), axis=1)"
   ]
  },
  {
   "cell_type": "code",
   "execution_count": 44,
   "metadata": {},
   "outputs": [
    {
     "name": "stdout",
     "output_type": "stream",
     "text": [
      "Cleaned of 24 Special Characters\n",
      "The company's flight MH131 going from Paris to New York reportedly went through a zoneÂ of 'heavy turbulence' with 'very low visibility' for a few minutes,Â before many of the navigation equipment simply stopped working, forcing the pilots to land the plane manually.\n",
      " The pilots were directed to fly the Boeing 777 almost directly over the active BardarbungaÂ volcano, despite many warnings from theÂ International Civil Aviation Organization.\n",
      " The extreme heat and a large number of sediments projected in the sky by the volcanic eruption haveÂ made the flight path extremely dangerous, as the damage to the planeÂ shows.\n",
      " Trying desperately to cut its prices to bring back lost customers, the Malaysian company has decided to ignore all warnings and fly over the active volcano.\n",
      " The company's regional senior vice president PK Lee, explained that theÂ company had 'thoroughly evaluated the risks' before choosing that flight path and that the passengers' lives were 'never really at risk'.\n",
      " The Boeing 777-200ER airplane was carrying 171 passengers and 11 crew members when it was forced to proceed to an emergency landing.\n",
      " Malaysia Airlines has been implicated in a series of incidents recently that have led many travelers away from the company. Flight MH370 from Kuala Lumpur to Beijing completely vanished on 8 March 2014.\n",
      " There has been no confirmation of any flight debris, and no crash site has been found. Flight MH17 crashed on 17 July 2014, presumably shot down over eastern Ukraine by a surface-to-air missile thought to have been fired by pro-Russian rebels, killing all 283 passengers and 15 crew on board.\n",
      " Combined with an already poor financial situation, some aviation and economic experts believed these tragic events could spell the end for Malaysia Airlines.\n",
      " An ill-conceived promotional campaign asking passengers to nominate what they wanted to do before they died, did not help, following a series of people posting pictures of near empty planes on social media.\n",
      " But the airline is fighting back, promising 'best value airfares for the UK and European dream holidays', a policy that hadÂ brought a few passengers back. This new incident could, however, destroy much of their efforts.\n",
      " Bring back Idrs Jala please.He knows what he is doing.\n",
      " MAS almost hit another plane a month or so on the runway in Australia when taking off.Oh dear, and now this? What retribution is this? I wish MAS well.\n",
      " I used to fly with Malaysia Airways. The first accident or not I accepted. But then a flight over a region where already three air crafts shot down in one week, all the other airlines didn't flight over this region'¦ And then again and again, I hope that the people who are leading this company will get punished and so go into the Jail. Never fly with Malaysia airways should be a flyer in every airport.\n",
      " Your email address will not be published.\n",
      "  Comment\n",
      "  Name\n",
      "  *\n",
      "  Email\n",
      "  *\n",
      "  Website\n",
      " New World Order Media @ Copyright 2017\n",
      " 'There was lots of smoke and flying embers, it looked like hell!' says Mohamed Teuku, one of the survivors. 'The plane was shaking and trembling, I thought it was going fall apart! I thought the company had learned their lesson and that they would stop putting people's life in danger, but it looks like I was wrong'¦Â That's it, I'm never flying with them again!'\n",
      "\n"
     ]
    }
   ],
   "source": [
    "print(clean_content(data.iloc[20][1]))"
   ]
  }
 ],
 "metadata": {
  "kernelspec": {
   "display_name": "Python 3",
   "language": "python",
   "name": "python3"
  },
  "language_info": {
   "codemirror_mode": {
    "name": "ipython",
    "version": 3
   },
   "file_extension": ".py",
   "mimetype": "text/x-python",
   "name": "python",
   "nbconvert_exporter": "python",
   "pygments_lexer": "ipython3",
   "version": "3.7.1"
  }
 },
 "nbformat": 4,
 "nbformat_minor": 2
}
