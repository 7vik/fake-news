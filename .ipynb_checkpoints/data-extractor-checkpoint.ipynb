{
 "cells": [
  {
   "cell_type": "code",
   "execution_count": 1,
   "metadata": {},
   "outputs": [],
   "source": [
    "import pandas as pd\n",
    "import numpy as np\n",
    "import matplotlib.pyplot as plt\n",
    "import seaborn as sns\n",
    "%matplotlib inline\n",
    "from urllib.request import urlopen\n",
    "from bs4 import BeautifulSoup\n",
    "\n",
    "#https://realorsatire.com/about/ has a list of a lot of fake news sites\n"
   ]
  },
  {
   "cell_type": "code",
   "execution_count": 2,
   "metadata": {},
   "outputs": [
    {
     "name": "stdout",
     "output_type": "stream",
     "text": [
      "http://libertywriters.com/2017/12/trump-wins-big-net-neutrality-just-burned-flames-happened-today/\n"
     ]
    }
   ],
   "source": [
    "#Enter URL of fake news from libertywriters.com, like:\n",
    "#http://libertywriters.com/2017/12/trump-wins-big-net-neutrality-just-burned-flames-happened-today/\n",
    "#http://libertywriters.com/2017/11/sarah-sanders-just-blasted-media-back-stone-age-trumps-pocahontas-joke/\n",
    "url = input()\n",
    "html = urlopen(url)"
   ]
  },
  {
   "cell_type": "code",
   "execution_count": 3,
   "metadata": {
    "scrolled": true
   },
   "outputs": [
    {
     "name": "stdout",
     "output_type": "stream",
     "text": [
      "<http.client.HTTPResponse object at 0x1a2272f978>\n",
      "sample block\n"
     ]
    }
   ],
   "source": [
    "print(html)\n",
    "print(\"sample block\")"
   ]
  },
  {
   "cell_type": "code",
   "execution_count": 4,
   "metadata": {
    "scrolled": true
   },
   "outputs": [],
   "source": [
    "soup = BeautifulSoup(html, 'html.parser')\n",
    "type(soup)\n",
    "# Get the title\n",
    "title = soup.title\n",
    "#print(title)\n",
    "# Print out the text\n",
    "text = soup.get_text()\n",
    "#print(soup.text)"
   ]
  },
  {
   "cell_type": "markdown",
   "metadata": {},
   "source": [
    "## Following code extracts the title and text from website\n",
    "   \n"
   ]
  },
  {
   "cell_type": "code",
   "execution_count": 5,
   "metadata": {},
   "outputs": [
    {
     "name": "stdout",
     "output_type": "stream",
     "text": [
      "TRUMP WINS BIG: Net Neutrality Just Burned in FLAMES After What Happened Today\n",
      " \n",
      "\n",
      "Source: DoD\n",
      "There has been a massive fight over the internet going on here recently. They called it: NET NEUTRALITY.\n",
      "Well, thanks to the hard-fought efforts of Trump’s FCC chairman Ajit Pai, the battle has finally been decided…President Trump ELIMINATED Net Neutrality!\n",
      "Now, let me explain to you all what that means for the country and for you.\n",
      "On one side, you had Republicans who want to allow government oversight and competitive pricing for Internet Service Providers. They stood against net neutrality.\n",
      "On the other hand, the Democrats wanted to keep Obama’s net rules which give absolute authority of the internet to Google, Facebook, and Amazon. Because of this authority, they have been able to kick conservatives like Liberty Writers off their websites and nobody can do a damn thing.\n",
      "Now there will finally be competition. Are cable providers perfect? Hell NO! They operate as sanctioned monopolies and many areas and overcharge their customers. However, ANYTHING to take away power from the Internet giants is a good thing right about now.\n",
      "Thanks to the new rules, ISPs will now be able to charge companies like Facebook for the amount of internet they use. As of now, Facebook pays about as much for the internet a month as you do to support Billions of users. That’s not fair.\n",
      "\n",
      "Net Neutrality has also slowed the internet down by stopping ISPs from investing in new infrastructures to improve speeds. Also, it’s worth noting that Net Neutrality has only existed since 2015. The internet worked just fine before it and will work fine without it.\n",
      "As an American voter, the final verdict is yours to make. Let Trump and his FCC know what YOU think about the end of Net Neutrality in the comments below.\n",
      "TweetSubscribe\n",
      "\n",
      "\n",
      "\n",
      "\n",
      "\n",
      "First Name\n",
      "Last name\n",
      "Email\n",
      "ZIP CodeSMS/Phone Number (Optional) By subscribing you accept our terms of use\n",
      "\n",
      "\n",
      "\n",
      "\n",
      "\n",
      "\n"
     ]
    }
   ],
   "source": [
    "title = soup.title.string\n",
    "print(title)\n",
    "#print(soup.get_text())\n",
    "#print(soup.find_all('meta', property=\"og:description\" ))\n",
    "#print(soup.find_all(div, class=\"td-post-content\"))\n",
    "\n",
    "#print(soup.find_all(\"div\", {\"class\":\"td-post-content\"}))\n",
    "\n",
    "print(\" \")\n",
    "\n",
    "txt = []\n",
    "for elem in soup.find_all(\"div\", {\"class\":\"td-post-content\"}):\n",
    "    txt.append(elem.text)\n",
    "    \n",
    "raw_text = ''.join(txt)\n",
    "print(raw_text)"
   ]
  }
 ],
 "metadata": {
  "kernelspec": {
   "display_name": "Python 3",
   "language": "python",
   "name": "python3"
  },
  "language_info": {
   "codemirror_mode": {
    "name": "ipython",
    "version": 3
   },
   "file_extension": ".py",
   "mimetype": "text/x-python",
   "name": "python",
   "nbconvert_exporter": "python",
   "pygments_lexer": "ipython3",
   "version": "3.7.1"
  }
 },
 "nbformat": 4,
 "nbformat_minor": 2
}
